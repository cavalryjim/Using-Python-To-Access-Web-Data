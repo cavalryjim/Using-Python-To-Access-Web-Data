{
 "cells": [
  {
   "cell_type": "markdown",
   "metadata": {},
   "source": [
    "# Extracting Data From XML\n",
    "## Aashita Kesarwani\n",
    "The following code is part of an assignment from the online course [Using Python to Access Web Data](https://www.coursera.org/learn/python-network-data). The code from http://www.pythonlearn.com/code/geoxml.py is used as a starting point. "
   ]
  },
  {
   "cell_type": "markdown",
   "metadata": {},
   "source": [
    "The code reads the XML data from a URL using `urllib.request` and then parses and extracts the comment counts from the XML data using `xml.etree.ElementTree`, and finally computes the sum of the numbers in the file."
   ]
  },
  {
   "cell_type": "code",
   "execution_count": 1,
   "metadata": {
    "collapsed": false
   },
   "outputs": [
    {
     "name": "stdout",
     "output_type": "stream",
     "text": [
      "2431\n"
     ]
    }
   ],
   "source": [
    "import urllib.request\n",
    "import xml.etree.ElementTree as ET\n",
    "url = \"http://python-data.dr-chuck.net/comments_282977.xml\"\n",
    "html = urllib.request.urlopen(url)\n",
    "data = html.read()\n",
    "tree = ET.fromstring(data)\n",
    "counts = tree.findall(\".//count\")\n",
    "s = sum(int(counts[i].text) for i in range(len(counts)))\n",
    "print(s)"
   ]
  }
 ],
 "metadata": {
  "kernelspec": {
   "display_name": "Python 3",
   "language": "python",
   "name": "python3"
  },
  "language_info": {
   "codemirror_mode": {
    "name": "ipython",
    "version": 3
   },
   "file_extension": ".py",
   "mimetype": "text/x-python",
   "name": "python",
   "nbconvert_exporter": "python",
   "pygments_lexer": "ipython3",
   "version": "3.6.0"
  }
 },
 "nbformat": 4,
 "nbformat_minor": 1
}
