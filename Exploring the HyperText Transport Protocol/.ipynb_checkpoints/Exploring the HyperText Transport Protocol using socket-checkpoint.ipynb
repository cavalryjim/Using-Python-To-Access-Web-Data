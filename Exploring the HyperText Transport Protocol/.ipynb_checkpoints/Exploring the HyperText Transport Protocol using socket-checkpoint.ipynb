{
 "cells": [
  {
   "cell_type": "markdown",
   "metadata": {},
   "source": [
    "# Exploring the HyperText Transport Protocol using socket\n",
    "\n",
    "## Aashita Kesarwani\n",
    "The following code is part of an assignment from the online course [Using Python to Access Web Data](https://www.coursera.org/learn/python-network-data). "
   ]
  },
  {
   "cell_type": "markdown",
   "metadata": {},
   "source": [
    "The code retrieves a document using the HTTP protocol using `socket` so as to examine the HTTP Response headers."
   ]
  },
  {
   "cell_type": "code",
   "execution_count": 1,
   "metadata": {
    "collapsed": false
   },
   "outputs": [
    {
     "name": "stdout",
     "output_type": "stream",
     "text": [
      "HTTP/1.1 200 OK\r\n",
      "Content-Type: text/plain\r\n",
      "Content-Length: 467\r\n",
      "Connection: close\r\n",
      "Date: Sat, 18 Mar 2017 23:56:28 GMT\r\n",
      "Server: Apache\r\n",
      "Last-Modified: Sat, 24 Sep 2016 20:36:08 GMT\r\n",
      "ETag: \"1d3-53d46d841582a\"\r\n",
      "Accept-Ranges: bytes\r\n",
      "\r\n",
      "Why should you learn to write programs?\n",
      "\n",
      "Writing programs (or programming) is a very creative \n",
      "and rewarding activity.  You can write programs for \n",
      "many reasons, ranging from making your living to solving\n",
      "a difficult data analysis problem to having fun to helping\n",
      "someone else so\n",
      "lve a problem.  This book assumes that \n",
      "everyone needs to know how to program, and that once \n",
      "you know how to program you will figure out what you want \n",
      "to do with your newfound skills.  \n",
      "\n"
     ]
    }
   ],
   "source": [
    "import socket\n",
    "mysocket = socket.socket(socket.AF_INET, socket.SOCK_STREAM)\n",
    "mysocket.connect(('data.pr4e.org',80))\n",
    "msg = 'GET http://data.pr4e.org/intro-short.txt HTTP/1.0\\n\\n'.encode()\n",
    "mysocket.send(msg)\n",
    "while True:\n",
    "    data = mysocket.recv(512)\n",
    "    if (len(data) < 1):\n",
    "        break\n",
    "    data = data.decode() \n",
    "    print(data)"
   ]
  }
 ],
 "metadata": {
  "kernelspec": {
   "display_name": "Python 3",
   "language": "python",
   "name": "python3"
  },
  "language_info": {
   "codemirror_mode": {
    "name": "ipython",
    "version": 3
   },
   "file_extension": ".py",
   "mimetype": "text/x-python",
   "name": "python",
   "nbconvert_exporter": "python",
   "pygments_lexer": "ipython3",
   "version": "3.6.0"
  }
 },
 "nbformat": 4,
 "nbformat_minor": 1
}
