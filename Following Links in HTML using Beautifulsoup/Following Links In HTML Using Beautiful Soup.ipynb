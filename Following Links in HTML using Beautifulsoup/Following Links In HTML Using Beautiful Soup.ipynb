{
 "cells": [
  {
   "cell_type": "markdown",
   "metadata": {},
   "source": [
    "# Following Links In HTML Using Beautiful Soup\n",
    "## Aashita Kesarwani\n",
    "The following code is part of an assignment from the online course [Using Python to Access Web Data](https://www.coursera.org/learn/python-network-data). "
   ]
  },
  {
   "cell_type": "markdown",
   "metadata": {},
   "source": [
    "The code uses `urllib.request` to read from the HTML, parses the data using `BeautifulSoup`, extracts the `href` = values from the anchor tags, scans for a tag that is in a particular position relative to the first name in the list, follows that link and repeats the process 7 and reports the last name it finds."
   ]
  },
  {
   "cell_type": "code",
   "execution_count": 1,
   "metadata": {
    "collapsed": false
   },
   "outputs": [
    {
     "name": "stdout",
     "output_type": "stream",
     "text": [
      "http://python-data.dr-chuck.net/known_by_Zishan.html\n",
      "http://python-data.dr-chuck.net/known_by_Keith.html\n",
      "http://python-data.dr-chuck.net/known_by_Ralph.html\n",
      "http://python-data.dr-chuck.net/known_by_Asya.html\n",
      "http://python-data.dr-chuck.net/known_by_Marcelina.html\n",
      "http://python-data.dr-chuck.net/known_by_Rayne.html\n",
      "http://python-data.dr-chuck.net/known_by_Dominic.html\n",
      "Last name:  Dominic\n"
     ]
    }
   ],
   "source": [
    "import urllib.request\n",
    "from bs4 import BeautifulSoup\n",
    "url = \"http://python-data.dr-chuck.net/known_by_Kalen.html \"\n",
    "for i in range(7):\n",
    "    html = urllib.request.urlopen(url)\n",
    "    soup = BeautifulSoup(html, \"lxml\")\n",
    "    tags = soup('a')\n",
    "    url = tags[17].get(\"href\", None)\n",
    "    print(url)\n",
    "\n",
    "import re\n",
    "last_name = re.findall(\".+/known_by_(.+).html\",url)[0]\n",
    "print(\"Last name: \", last_name )"
   ]
  }
 ],
 "metadata": {
  "kernelspec": {
   "display_name": "Python 3",
   "language": "python",
   "name": "python3"
  },
  "language_info": {
   "codemirror_mode": {
    "name": "ipython",
    "version": 3
   },
   "file_extension": ".py",
   "mimetype": "text/x-python",
   "name": "python",
   "nbconvert_exporter": "python",
   "pygments_lexer": "ipython3",
   "version": "3.6.0"
  }
 },
 "nbformat": 4,
 "nbformat_minor": 1
}
