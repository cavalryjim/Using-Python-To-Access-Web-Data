{
 "cells": [
  {
   "cell_type": "markdown",
   "metadata": {},
   "source": [
    "# Parsing a file using regex to extract all numbers to compute their sum\n",
    "## Aashita Kesarwani\n",
    "The following code is part of an assignment from the online course [Using Python to Access Web Data](https://www.coursera.org/learn/python-network-data). \n",
    "It reads through and parses a file with text and numbers using `regex` extracting all the numbers in the file and then computing the sum of the numbers."
   ]
  },
  {
   "cell_type": "code",
   "execution_count": 1,
   "metadata": {
    "collapsed": false
   },
   "outputs": [
    {
     "name": "stdout",
     "output_type": "stream",
     "text": [
      "List of numbers:\n",
      " ['4778', '6161', '2026', '6133', '7734', '6681', '2373', '2250', '8310', '5734', '9927', '883', '7409', '3028', '5324', '821', '1456', '7760', '1427', '2312', '6298', '8209', '4303', '1720', '3505', '194', '3183', '430', '9597', '171', '2080', '864', '4959', '332', '6156', '9315', '9944', '4244', '2217', '5685', '6922', '5933', '5179', '9533', '4780', '317', '4782', '2905', '7980', '7686', '8420', '7738', '9644', '6113', '7631', '5372', '6127', '2462', '6346', '4401', '3645', '3121', '4631', '7270', '1227', '8162', '2705', '6247', '37', '837', '3073', '874', '42']\n",
      "Sum:  338075\n"
     ]
    }
   ],
   "source": [
    "import re\n",
    "text = open('regex_sum.txt')\n",
    "L = list()\n",
    "for line in text:\n",
    "    line = line.strip().rstrip()\n",
    "    L = L + re.findall('[0-9]+', line)\n",
    "print(\"List of numbers:\\n\", L)\n",
    "s = sum(int(n) for n in L)\n",
    "print(\"Sum: \",s)"
   ]
  },
  {
   "cell_type": "code",
   "execution_count": null,
   "metadata": {
    "collapsed": true
   },
   "outputs": [],
   "source": []
  }
 ],
 "metadata": {
  "anaconda-cloud": {},
  "kernelspec": {
   "display_name": "Python 3",
   "language": "python",
   "name": "python3"
  },
  "language_info": {
   "codemirror_mode": {
    "name": "ipython",
    "version": 3
   },
   "file_extension": ".py",
   "mimetype": "text/x-python",
   "name": "python",
   "nbconvert_exporter": "python",
   "pygments_lexer": "ipython3",
   "version": "3.6.0"
  }
 },
 "nbformat": 4,
 "nbformat_minor": 1
}
