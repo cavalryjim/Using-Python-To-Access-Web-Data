{
 "cells": [
  {
   "cell_type": "code",
   "execution_count": 8,
   "metadata": {
    "collapsed": false
   },
   "outputs": [
    {
     "name": "stdout",
     "output_type": "stream",
     "text": [
      "<html>\n",
      "<head>\n",
      "<title>Welcome to the comments assignment from www.pythonlearn.com</title>\n",
      "</head>\n",
      "<body>\n",
      "<h1>This file contains the sample data for testing</h1>\n",
      "\n",
      "<table border=\"2\">\n",
      "<tr>\n",
      "<td>Name</td><td>Comments</td>\n",
      "</tr>\n",
      "<tr><td>Romina</td><td><span class=\"comments\">97</span></td></tr>\n",
      "<tr><td>Laurie</td><td><span class=\"comments\">97</span></td></tr>\n",
      "<tr><td>Bayli</td><td><span class=\"comments\">90</span></td></tr>\n",
      "<tr><td>Siyona</td><td><span class=\"comments\">90</span></td></tr>\n",
      "<tr><td>Taisha</td><td><span class=\"comments\">88</span></td></tr>\n",
      "<tr><td>Alanda</td><td><span class=\"comments\">87</span></td></tr>\n",
      "<tr><td>Ameelia</td><td><span class=\"comments\">87</span></td></tr>\n",
      "<tr><td>Prasheeta</td><td><span class=\"comments\">80</span></td></tr>\n",
      "<tr><td>Asif</td><td><span class=\"comments\">79</span></td></tr>\n",
      "<tr><td>Risa</td><td><span class=\"comments\">79</span></td></tr>\n",
      "<tr><td>Zi</td><td><span class=\"comments\">78</span></td></tr>\n",
      "<tr><td>Danyil</td><td><span class=\"comments\">76</span></td></tr>\n",
      "<tr><td>Ediomi</td><td><span class=\"comments\">76</span></td></tr>\n",
      "<tr><td>Barry</td><td><span class=\"comments\">72</span></td></tr>\n",
      "<tr><td>Lance</td><td><span class=\"comments\">72</span></td></tr>\n",
      "<tr><td>Hattie</td><td><span class=\"comments\">66</span></td></tr>\n",
      "<tr><td>Mathu</td><td><span class=\"comments\">66</span></td></tr>\n",
      "<tr><td>Bowie</td><td><span class=\"comments\">65</span></td></tr>\n",
      "<tr><td>Samara</td><td><span class=\"comments\">65</span></td></tr>\n",
      "<tr><td>Uchenna</td><td><span class=\"comments\">64</span></td></tr>\n",
      "<tr><td>Shauni</td><td><span class=\"comments\">61</span></td></tr>\n",
      "<tr><td>Georgia</td><td><span class=\"comments\">61</span></td></tr>\n",
      "<tr><td>Rivan</td><td><span class=\"comments\">59</span></td></tr>\n",
      "<tr><td>Kenan</td><td><span class=\"comments\">58</span></td></tr>\n",
      "<tr><td>Hassan</td><td><span class=\"comments\">57</span></td></tr>\n",
      "<tr><td>Isma</td><td><span class=\"comments\">57</span></td></tr>\n",
      "<tr><td>Samanthalee</td><td><span class=\"comments\">54</span></td></tr>\n",
      "<tr><td>Alexa</td><td><span class=\"comments\">51</span></td></tr>\n",
      "<tr><td>Caine</td><td><span class=\"comments\">49</span></td></tr>\n",
      "<tr><td>Grady</td><td><span class=\"comments\">47</span></td></tr>\n",
      "<tr><td>Anne</td><td><span class=\"comments\">40</span></td></tr>\n",
      "<tr><td>Rihan</td><td><span class=\"comments\">38</span></td></tr>\n",
      "<tr><td>Alexei</td><td><span class=\"comments\">37</span></td></tr>\n",
      "<tr><td>Indie</td><td><span class=\"comments\">36</span></td></tr>\n",
      "<tr><td>Rhuairidh</td><td><span class=\"comments\">36</span></td></tr>\n",
      "<tr><td>Annoushka</td><td><span class=\"comments\">32</span></td></tr>\n",
      "<tr><td>Kenzi</td><td><span class=\"comments\">25</span></td></tr>\n",
      "<tr><td>Shahd</td><td><span class=\"comments\">24</span></td></tr>\n",
      "<tr><td>Irvine</td><td><span class=\"comments\">22</span></td></tr>\n",
      "<tr><td>Carys</td><td><span class=\"comments\">21</span></td></tr>\n",
      "<tr><td>Skye</td><td><span class=\"comments\">19</span></td></tr>\n",
      "<tr><td>Atiya</td><td><span class=\"comments\">18</span></td></tr>\n",
      "<tr><td>Rohan</td><td><span class=\"comments\">18</span></td></tr>\n",
      "<tr><td>Nuala</td><td><span class=\"comments\">14</span></td></tr>\n",
      "<tr><td>Maram</td><td><span class=\"comments\">12</span></td></tr>\n",
      "<tr><td>Carlo</td><td><span class=\"comments\">12</span></td></tr>\n",
      "<tr><td>Japleen</td><td><span class=\"comments\">9</span></td></tr>\n",
      "<tr><td>Breeanna</td><td><span class=\"comments\">7</span></td></tr>\n",
      "<tr><td>Zaaine</td><td><span class=\"comments\">3</span></td></tr>\n",
      "<tr><td>Inika</td><td><span class=\"comments\">2</span></td></tr>\n",
      "</table>\n",
      "</body>\n",
      "</html>\n",
      "\n"
     ]
    }
   ],
   "source": [
    "import urllib\n",
    "html = urllib.urlopen(\" http://python-data.dr-chuck.net/comments_42.html\")\n",
    "print html.read()"
   ]
  },
  {
   "cell_type": "code",
   "execution_count": 22,
   "metadata": {
    "collapsed": false
   },
   "outputs": [
    {
     "name": "stdout",
     "output_type": "stream",
     "text": [
      "2553\n"
     ]
    }
   ],
   "source": [
    "import urllib\n",
    "html = urllib.urlopen(\" http://python-data.dr-chuck.net/comments_42.html\")\n",
    "from bs4 import BeautifulSoup\n",
    "soup = BeautifulSoup(html, \"lxml\")\n",
    "tags = soup('span')\n",
    "s = 0\n",
    "for tag in tags:\n",
    "    s += int(tag.contents[0])\n",
    "print s"
   ]
  },
  {
   "cell_type": "code",
   "execution_count": 23,
   "metadata": {
    "collapsed": false
   },
   "outputs": [
    {
     "name": "stdout",
     "output_type": "stream",
     "text": [
      "2180\n"
     ]
    }
   ],
   "source": [
    "import urllib\n",
    "html = urllib.urlopen(\" http://python-data.dr-chuck.net/comments_282980.html\")\n",
    "from bs4 import BeautifulSoup\n",
    "soup = BeautifulSoup(html, \"lxml\")\n",
    "tags = soup('span')\n",
    "s = 0\n",
    "for tag in tags:\n",
    "    s += int(tag.contents[0])\n",
    "print s"
   ]
  },
  {
   "cell_type": "code",
   "execution_count": null,
   "metadata": {
    "collapsed": true
   },
   "outputs": [],
   "source": []
  }
 ],
 "metadata": {
  "kernelspec": {
   "display_name": "Python [default]",
   "language": "python",
   "name": "python2"
  },
  "language_info": {
   "codemirror_mode": {
    "name": "ipython",
    "version": 2
   },
   "file_extension": ".py",
   "mimetype": "text/x-python",
   "name": "python",
   "nbconvert_exporter": "python",
   "pygments_lexer": "ipython2",
   "version": "2.7.13"
  }
 },
 "nbformat": 4,
 "nbformat_minor": 1
}
