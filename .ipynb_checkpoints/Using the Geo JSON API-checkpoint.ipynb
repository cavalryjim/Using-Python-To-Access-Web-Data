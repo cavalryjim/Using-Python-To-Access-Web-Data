{
 "cells": [
  {
   "cell_type": "markdown",
   "metadata": {},
   "source": [
    "# Extracting Data From JSON\n",
    "## Aashita Kesarwani\n",
    "The following code is part of an assignment from the online course [Using Python to Access Web Data](https://www.coursera.org/learn/python-network-data)."
   ]
  },
  {
   "cell_type": "markdown",
   "metadata": {},
   "source": [
    "The code contacts Geo JSON API to retrieve information about a specific location in JSON format and parses that data, and retrieves the first place_id from the JSON. A place ID is a textual identifier that uniquely identifies a place as within Google Maps."
   ]
  },
  {
   "cell_type": "code",
   "execution_count": 1,
   "metadata": {
    "collapsed": false
   },
   "outputs": [
    {
     "name": "stdout",
     "output_type": "stream",
     "text": [
      "{\n",
      "    \"results\": [\n",
      "        {\n",
      "            \"address_components\": [\n",
      "                {\n",
      "                    \"long_name\": \"South Federal Boulevard\",\n",
      "                    \"short_name\": \"S Federal Blvd\",\n",
      "                    \"types\": [\n",
      "                        \"route\"\n",
      "                    ]\n",
      "                },\n",
      "                {\n",
      "                    \"long_name\": \"South\",\n",
      "                    \"short_name\": \"South\",\n",
      "                    \"types\": [\n",
      "                        \"neighborhood\",\n",
      "                        \"political\"\n",
      "                    ]\n",
      "                },\n",
      "                {\n",
      "                    \"long_name\": \"Denver\",\n",
      "                    \"short_name\": \"Denver\",\n",
      "                    \"types\": [\n",
      "                        \"locality\",\n",
      "                        \"political\"\n",
      "                    ]\n",
      "                },\n",
      "                {\n",
      "                    \"long_name\": \"Denver County\",\n",
      "                    \"short_name\": \"Denver County\",\n",
      "                    \"types\": [\n",
      "                        \"administrative_area_level_2\",\n",
      "                        \"political\"\n",
      "                    ]\n",
      "                },\n",
      "                {\n",
      "                    \"long_name\": \"Colorado\",\n",
      "                    \"short_name\": \"CO\",\n",
      "                    \"types\": [\n",
      "                        \"administrative_area_level_1\",\n",
      "                        \"political\"\n",
      "                    ]\n",
      "                },\n",
      "                {\n",
      "                    \"long_name\": \"United States\",\n",
      "                    \"short_name\": \"US\",\n",
      "                    \"types\": [\n",
      "                        \"country\",\n",
      "                        \"political\"\n",
      "                    ]\n",
      "                }\n",
      "            ],\n",
      "            \"formatted_address\": \"S Federal Blvd, Denver, CO, USA\",\n",
      "            \"geometry\": {\n",
      "                \"bounds\": {\n",
      "                    \"northeast\": {\n",
      "                        \"lat\": 39.7133974,\n",
      "                        \"lng\": -105.0209967\n",
      "                    },\n",
      "                    \"southwest\": {\n",
      "                        \"lat\": 39.6318008,\n",
      "                        \"lng\": -105.0279356\n",
      "                    }\n",
      "                },\n",
      "                \"location\": {\n",
      "                    \"lat\": 39.6726798,\n",
      "                    \"lng\": -105.0250535\n",
      "                },\n",
      "                \"location_type\": \"GEOMETRIC_CENTER\",\n",
      "                \"viewport\": {\n",
      "                    \"northeast\": {\n",
      "                        \"lat\": 39.7133974,\n",
      "                        \"lng\": -105.0209967\n",
      "                    },\n",
      "                    \"southwest\": {\n",
      "                        \"lat\": 39.6318008,\n",
      "                        \"lng\": -105.0279356\n",
      "                    }\n",
      "                }\n",
      "            },\n",
      "            \"partial_match\": true,\n",
      "            \"place_id\": \"ChIJJ8oO7_B_bIcR2AlhC8nKlok\",\n",
      "            \"types\": [\n",
      "                \"route\"\n",
      "            ]\n",
      "        }\n",
      "    ],\n",
      "    \"status\": \"OK\"\n",
      "}\n"
     ]
    }
   ],
   "source": [
    "from urllib import request, parse\n",
    "import json\n",
    "service_url = 'http://python-data.dr-chuck.net/geojson?'\n",
    "address = \"South Federal University\"\n",
    "url = service_url + parse.urlencode({\"sensor\" : \"false\", \"address\": address})\n",
    "html = request.urlopen(url)\n",
    "data = html.read()\n",
    "js = json.loads(data)\n",
    "print(json.dumps(js, indent =4))"
   ]
  },
  {
   "cell_type": "code",
   "execution_count": 2,
   "metadata": {
    "collapsed": false
   },
   "outputs": [
    {
     "name": "stdout",
     "output_type": "stream",
     "text": [
      "Place id:  ChIJJ8oO7_B_bIcR2AlhC8nKlok\n"
     ]
    }
   ],
   "source": [
    "import urllib\n",
    "import json\n",
    "service_url = 'http://python-data.dr-chuck.net/geojson?'\n",
    "address = \"South Federal University\"\n",
    "url = service_url + urllib.parse.urlencode({\"sensor\" : \"false\", \"address\": address})\n",
    "html = urllib.request.urlopen(url)\n",
    "data = html.read()\n",
    "js = json.loads(data)\n",
    "if js[\"status\"] == \"OK\":\n",
    "    print(\"Place id: \", js[\"results\"][0][\"place_id\"])"
   ]
  }
 ],
 "metadata": {
  "kernelspec": {
   "display_name": "Python 3",
   "language": "python",
   "name": "python3"
  },
  "language_info": {
   "codemirror_mode": {
    "name": "ipython",
    "version": 3
   },
   "file_extension": ".py",
   "mimetype": "text/x-python",
   "name": "python",
   "nbconvert_exporter": "python",
   "pygments_lexer": "ipython3",
   "version": "3.6.0"
  }
 },
 "nbformat": 4,
 "nbformat_minor": 1
}
