{
 "cells": [
  {
   "cell_type": "code",
   "execution_count": 28,
   "metadata": {
    "collapsed": false
   },
   "outputs": [
    {
     "name": "stdout",
     "output_type": "stream",
     "text": [
      "stephen.marquard@uct.ac.za\n",
      "louis@media.berkeley.edu\n",
      "zqian@umich.edu\n",
      "rjlowe@iupui.edu\n",
      "zqian@umich.edu\n",
      "rjlowe@iupui.edu\n",
      "cwen@iupui.edu\n",
      "cwen@iupui.edu\n",
      "gsilver@umich.edu\n",
      "gsilver@umich.edu\n",
      "zqian@umich.edu\n",
      "gsilver@umich.edu\n",
      "wagnermr@iupui.edu\n",
      "zqian@umich.edu\n",
      "antranig@caret.cam.ac.uk\n",
      "gopal.ramasammycook@gmail.com\n",
      "david.horwitz@uct.ac.za\n",
      "david.horwitz@uct.ac.za\n",
      "david.horwitz@uct.ac.za\n",
      "david.horwitz@uct.ac.za\n",
      "stephen.marquard@uct.ac.za\n",
      "louis@media.berkeley.edu\n",
      "louis@media.berkeley.edu\n",
      "ray@media.berkeley.edu\n",
      "cwen@iupui.edu\n",
      "cwen@iupui.edu\n",
      "cwen@iupui.edu\n",
      "\n",
      "Counts:\n",
      "cwen@iupui.edu 5\n",
      "zqian@umich.edu 4\n",
      "david.horwitz@uct.ac.za 4\n",
      "louis@media.berkeley.edu 3\n",
      "gsilver@umich.edu 3\n",
      "stephen.marquard@uct.ac.za 2\n",
      "rjlowe@iupui.edu 2\n",
      "wagnermr@iupui.edu 1\n",
      "antranig@caret.cam.ac.uk 1\n",
      "gopal.ramasammycook@gmail.com 1\n"
     ]
    }
   ],
   "source": [
    "import sqlite3\n",
    "conn = sqlite3.connect(\"emaildb.sqlite3\")\n",
    "cur = conn.cursor()\n",
    "\n",
    "cur.execute(\"DROP TABLE IF EXISTS Counts\")\n",
    "cur.execute(\"CREATE TABLE Counts(email TEXT, count INTEGER)\")\n",
    "\n",
    "fname = \"mbox-short.txt\"\n",
    "fhandle = open(fname)\n",
    "for line in fhandle:\n",
    "    if line.startswith(\"From:\"):\n",
    "        words = line.split()\n",
    "        email = words[1]\n",
    "        print email\n",
    "        cur.execute(\"SELECT count FROM Counts WHERE email = ?\", (email,))\n",
    "        row = cur.fetchone()\n",
    "        if row is None:\n",
    "            cur.execute(\"\"\"INSERT INTO Counts (email, count) VALUES (?,1)\"\"\",(email,))\n",
    "        else:\n",
    "            cur.execute(\"UPDATE Counts SET count = count + 1 WHERE email = ?\", (email,))\n",
    "        conn.commit()\n",
    "\n",
    "sqlstr = 'SELECT email, count FROM Counts ORDER BY count DESC LIMIT 10'\n",
    "\n",
    "print\n",
    "print \"Counts:\"\n",
    "for row in cur.execute(sqlstr):\n",
    "    print str(row[0]), row[1]\n",
    "\n",
    "cur.close()"
   ]
  },
  {
   "cell_type": "code",
   "execution_count": 8,
   "metadata": {
    "collapsed": false
   },
   "outputs": [
    {
     "name": "stdout",
     "output_type": "stream",
     "text": [
      "['From:', 'stephen.marquard@uct.ac.za']\n",
      "['From:', 'louis@media.berkeley.edu']\n",
      "['From:', 'zqian@umich.edu']\n",
      "['From:', 'rjlowe@iupui.edu']\n",
      "['From:', 'zqian@umich.edu']\n",
      "['From:', 'rjlowe@iupui.edu']\n",
      "['From:', 'cwen@iupui.edu']\n",
      "['From:', 'cwen@iupui.edu']\n",
      "['From:', 'gsilver@umich.edu']\n",
      "['From:', 'gsilver@umich.edu']\n",
      "['From:', 'zqian@umich.edu']\n",
      "['From:', 'gsilver@umich.edu']\n",
      "['From:', 'wagnermr@iupui.edu']\n",
      "['From:', 'zqian@umich.edu']\n",
      "['From:', 'antranig@caret.cam.ac.uk']\n",
      "['From:', 'gopal.ramasammycook@gmail.com']\n",
      "['From:', 'david.horwitz@uct.ac.za']\n",
      "['From:', 'david.horwitz@uct.ac.za']\n",
      "['From:', 'david.horwitz@uct.ac.za']\n",
      "['From:', 'david.horwitz@uct.ac.za']\n",
      "['From:', 'stephen.marquard@uct.ac.za']\n",
      "['From:', 'louis@media.berkeley.edu']\n",
      "['From:', 'louis@media.berkeley.edu']\n",
      "['From:', 'ray@media.berkeley.edu']\n",
      "['From:', 'cwen@iupui.edu']\n",
      "['From:', 'cwen@iupui.edu']\n",
      "['From:', 'cwen@iupui.edu']\n"
     ]
    }
   ],
   "source": [
    "fh = open(fname)\n",
    "for line in fh:\n",
    "    if not line.startswith('From: ') : continue\n",
    "    pieces = line.split()\n",
    "    #email = pieces[1]\n",
    "    print pieces"
   ]
  },
  {
   "cell_type": "code",
   "execution_count": 21,
   "metadata": {
    "collapsed": false
   },
   "outputs": [
    {
     "name": "stdout",
     "output_type": "stream",
     "text": [
      "Enter file name: \n",
      "stephen.marquard@uct.ac.za\n",
      "louis@media.berkeley.edu\n",
      "zqian@umich.edu\n",
      "rjlowe@iupui.edu\n",
      "zqian@umich.edu\n",
      "rjlowe@iupui.edu\n",
      "cwen@iupui.edu\n",
      "cwen@iupui.edu\n",
      "gsilver@umich.edu\n",
      "gsilver@umich.edu\n",
      "zqian@umich.edu\n",
      "gsilver@umich.edu\n",
      "wagnermr@iupui.edu\n",
      "zqian@umich.edu\n",
      "antranig@caret.cam.ac.uk\n",
      "gopal.ramasammycook@gmail.com\n",
      "david.horwitz@uct.ac.za\n",
      "david.horwitz@uct.ac.za\n",
      "david.horwitz@uct.ac.za\n",
      "david.horwitz@uct.ac.za\n",
      "stephen.marquard@uct.ac.za\n",
      "louis@media.berkeley.edu\n",
      "louis@media.berkeley.edu\n",
      "ray@media.berkeley.edu\n",
      "cwen@iupui.edu\n",
      "cwen@iupui.edu\n",
      "cwen@iupui.edu\n",
      "\n",
      "Counts:\n",
      "cwen@iupui.edu 5\n",
      "zqian@umich.edu 4\n",
      "david.horwitz@uct.ac.za 4\n",
      "louis@media.berkeley.edu 3\n",
      "gsilver@umich.edu 3\n",
      "stephen.marquard@uct.ac.za 2\n",
      "rjlowe@iupui.edu 2\n",
      "wagnermr@iupui.edu 1\n",
      "antranig@caret.cam.ac.uk 1\n",
      "gopal.ramasammycook@gmail.com 1\n"
     ]
    }
   ],
   "source": [
    "import sqlite3\n",
    "\n",
    "conn = sqlite3.connect('emaildb.sqlite')\n",
    "cur = conn.cursor()\n",
    "\n",
    "cur.execute('''\n",
    "DROP TABLE IF EXISTS Counts''')\n",
    "\n",
    "cur.execute('''\n",
    "CREATE TABLE Counts (email TEXT, count INTEGER)''')\n",
    "\n",
    "fname = raw_input('Enter file name: ')\n",
    "if ( len(fname) < 1 ) : fname = 'mbox-short.txt'\n",
    "fh = open(fname)\n",
    "for line in fh:\n",
    "    if not line.startswith('From: ') : continue\n",
    "    pieces = line.split()\n",
    "    email = pieces[1]\n",
    "    print email\n",
    "    cur.execute('SELECT count FROM Counts WHERE email = ? ', (email, ))\n",
    "    row = cur.fetchone()\n",
    "    if row is None:\n",
    "        cur.execute('''INSERT INTO Counts (email, count) \n",
    "                VALUES ( ?, 1 )''', ( email, ) )\n",
    "    else : \n",
    "        cur.execute('UPDATE Counts SET count=count+1 WHERE email = ?', \n",
    "            (email, ))\n",
    "    # This statement commits outstanding changes to disk each \n",
    "    # time through the loop - the program can be made faster \n",
    "    # by moving the commit so it runs only after the loop completes\n",
    "    conn.commit()\n",
    "\n",
    "# https://www.sqlite.org/lang_select.html\n",
    "sqlstr = 'SELECT email, count FROM Counts ORDER BY count DESC LIMIT 10'\n",
    "\n",
    "print\n",
    "print \"Counts:\"\n",
    "for row in cur.execute(sqlstr) :\n",
    "    print str(row[0]), row[1]\n",
    "\n",
    "cur.close()"
   ]
  },
  {
   "cell_type": "code",
   "execution_count": null,
   "metadata": {
    "collapsed": true
   },
   "outputs": [],
   "source": []
  }
 ],
 "metadata": {
  "anaconda-cloud": {},
  "kernelspec": {
   "display_name": "Python [default]",
   "language": "python",
   "name": "python2"
  },
  "language_info": {
   "codemirror_mode": {
    "name": "ipython",
    "version": 2
   },
   "file_extension": ".py",
   "mimetype": "text/x-python",
   "name": "python",
   "nbconvert_exporter": "python",
   "pygments_lexer": "ipython2",
   "version": "2.7.13"
  }
 },
 "nbformat": 4,
 "nbformat_minor": 1
}
