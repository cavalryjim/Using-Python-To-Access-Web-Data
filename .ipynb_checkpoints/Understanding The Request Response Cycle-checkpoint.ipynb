{
 "cells": [
  {
   "cell_type": "code",
   "execution_count": 7,
   "metadata": {
    "collapsed": false
   },
   "outputs": [
    {
     "name": "stdout",
     "output_type": "stream",
     "text": [
      "HTTP/1.1 200 OK\r\n",
      "Content-Type: text/plain\r\n",
      "Content-Length: 467\r\n",
      "Connection: close\r\n",
      "Date: Sat, 04 Mar 2017 00:28:21 GMT\r\n",
      "Server: Apache\r\n",
      "Last-Modified: Sat, 24 Sep 2016 20:36:08 GMT\r\n",
      "ETag: \"1d3-53d46d841582a\"\r\n",
      "Accept-Ranges: bytes\r\n",
      "\r\n",
      "Why should you learn to write programs?\n",
      "\n",
      "Writing programs (or programming) is a very creative \n",
      "and rewarding activity.  You can write programs for \n",
      "many reasons, ranging from making your living to solving\n",
      "a difficult data analysis problem to having fun to helping\n",
      "someone else so\n",
      "lve a problem.  This book assumes that \n",
      "everyone needs to know how to program, and that once \n",
      "you know how to program you will figure out what you want \n",
      "to do with your newfound skills.  \n",
      "\n"
     ]
    }
   ],
   "source": [
    "import socket\n",
    "mysocket = socket.socket(socket.AF_INET, socket.SOCK_STREAM)\n",
    "mysocket.connect(('data.pr4e.org',80))\n",
    "\n",
    "mysocket.send('GET http://data.pr4e.org/intro-short.txt HTTP/1.0\\n\\n')\n",
    "while True:\n",
    "    data = mysocket.recv(512)\n",
    "    if (len(data) < 1):\n",
    "        break\n",
    "    print data"
   ]
  },
  {
   "cell_type": "code",
   "execution_count": 11,
   "metadata": {
    "collapsed": false
   },
   "outputs": [
    {
     "name": "stdout",
     "output_type": "stream",
     "text": [
      "460\n"
     ]
    }
   ],
   "source": [
    "text = \"\"\"Why should you learn to write programs? Writing programs (or programming) is a very creative and rewarding activity. You can write programs for \n",
    "many reasons, ranging from making your living to solving a difficult data analysis problem to having fun to helping someone else so\n",
    "lve a problem.  This book assumes that everyone needs to know how to program, and that once you know how to program you will figure out what you want \n",
    "to do with your newfound skills.\"\"\"\n",
    "print len(text)"
   ]
  },
  {
   "cell_type": "code",
   "execution_count": 13,
   "metadata": {
    "collapsed": false
   },
   "outputs": [
    {
     "name": "stdout",
     "output_type": "stream",
     "text": [
      "466\n"
     ]
    }
   ],
   "source": [
    "text = \"\"\"Why should you learn to write programs?\n",
    "\n",
    "Writing programs (or programming) is a very creative \n",
    "and rewarding activity.  You can write programs for \n",
    "many reasons, ranging from making your living to solving\n",
    "a difficult data analysis problem to having fun to helping\n",
    "someone else so\n",
    "lve a problem.  This book assumes that \n",
    "everyone needs to know how to program, and that once \n",
    "you know how to program you will figure out what you want \n",
    "to do with your newfound skills. \"\"\"\n",
    "print len(text)"
   ]
  },
  {
   "cell_type": "code",
   "execution_count": 14,
   "metadata": {
    "collapsed": false
   },
   "outputs": [
    {
     "name": "stdout",
     "output_type": "stream",
     "text": [
      "<addinfourl at 76672392L whose fp = <socket._fileobject object at 0x000000000491B9A8>>\n"
     ]
    }
   ],
   "source": [
    "import urllib\n",
    "html = urllib.urlopen(\"http://data.pr4e.org/intro-short.txt\")\n",
    "print html"
   ]
  },
  {
   "cell_type": "code",
   "execution_count": 15,
   "metadata": {
    "collapsed": false
   },
   "outputs": [
    {
     "name": "stdout",
     "output_type": "stream",
     "text": [
      "Why should you learn to write programs?\n",
      "\n",
      "Writing programs (or programming) is a very creative \n",
      "and rewarding activity.  You can write programs for \n",
      "many reasons, ranging from making your living to solving\n",
      "a difficult data analysis problem to having fun to helping\n",
      "someone else solve a problem.  This book assumes that \n",
      "everyone needs to know how to program, and that once \n",
      "you know how to program you will figure out what you want \n",
      "to do with your newfound skills.  \n",
      "\n"
     ]
    }
   ],
   "source": [
    "import urllib\n",
    "html = urllib.urlopen(\"http://data.pr4e.org/intro-short.txt\").read()\n",
    "print html"
   ]
  },
  {
   "cell_type": "code",
   "execution_count": 16,
   "metadata": {
    "collapsed": false
   },
   "outputs": [
    {
     "name": "stdout",
     "output_type": "stream",
     "text": [
      "<addinfourl at 76669192L whose fp = <socket._fileobject object at 0x000000000491BC00>>\n"
     ]
    }
   ],
   "source": [
    "import urllib\n",
    "html = urllib.urlopen(\"http://www.dr-chuck.com\")\n",
    "print html"
   ]
  },
  {
   "cell_type": "code",
   "execution_count": 19,
   "metadata": {
    "collapsed": false
   },
   "outputs": [
    {
     "name": "stdout",
     "output_type": "stream",
     "text": [
      "<h1>The First Page</h1>\n",
      "<p>\n",
      "If you like, you can switch to the \n",
      "<a href=\"http://www.dr-chuck.com/page2.htm\">\n",
      "Second Page</a>.\n",
      "</p>\n",
      "\n"
     ]
    }
   ],
   "source": [
    "import urllib\n",
    "html = urllib.urlopen(\"http://www.dr-chuck.com/page1.htm\").read()\n",
    "print html"
   ]
  },
  {
   "cell_type": "code",
   "execution_count": null,
   "metadata": {
    "collapsed": true
   },
   "outputs": [],
   "source": []
  }
 ],
 "metadata": {
  "kernelspec": {
   "display_name": "Python 3",
   "language": "python",
   "name": "python3"
  },
  "language_info": {
   "codemirror_mode": {
    "name": "ipython",
    "version": 3
   },
   "file_extension": ".py",
   "mimetype": "text/x-python",
   "name": "python",
   "nbconvert_exporter": "python",
   "pygments_lexer": "ipython3",
   "version": "3.6.0"
  }
 },
 "nbformat": 4,
 "nbformat_minor": 1
}
