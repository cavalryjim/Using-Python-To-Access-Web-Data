{
 "cells": [
  {
   "cell_type": "code",
   "execution_count": null,
   "metadata": {
    "collapsed": true
   },
   "outputs": [],
   "source": [
    "#http://www.pythonlearn.com/code/json2.py"
   ]
  },
  {
   "cell_type": "code",
   "execution_count": 13,
   "metadata": {
    "collapsed": false
   },
   "outputs": [
    {
     "name": "stdout",
     "output_type": "stream",
     "text": [
      "{u'note': u'This file contains the sample data for testing', u'comments': [{u'count': 97, u'name': u'Romina'}, {u'count': 97, u'name': u'Laurie'}, {u'count': 90, u'name': u'Bayli'}, {u'count': 90, u'name': u'Siyona'}, {u'count': 88, u'name': u'Taisha'}, {u'count': 87, u'name': u'Alanda'}, {u'count': 87, u'name': u'Ameelia'}, {u'count': 80, u'name': u'Prasheeta'}, {u'count': 79, u'name': u'Asif'}, {u'count': 79, u'name': u'Risa'}, {u'count': 78, u'name': u'Zi'}, {u'count': 76, u'name': u'Danyil'}, {u'count': 76, u'name': u'Ediomi'}, {u'count': 72, u'name': u'Barry'}, {u'count': 72, u'name': u'Lance'}, {u'count': 66, u'name': u'Hattie'}, {u'count': 66, u'name': u'Mathu'}, {u'count': 65, u'name': u'Bowie'}, {u'count': 65, u'name': u'Samara'}, {u'count': 64, u'name': u'Uchenna'}, {u'count': 61, u'name': u'Shauni'}, {u'count': 61, u'name': u'Georgia'}, {u'count': 59, u'name': u'Rivan'}, {u'count': 58, u'name': u'Kenan'}, {u'count': 57, u'name': u'Hassan'}, {u'count': 57, u'name': u'Isma'}, {u'count': 54, u'name': u'Samanthalee'}, {u'count': 51, u'name': u'Alexa'}, {u'count': 49, u'name': u'Caine'}, {u'count': 47, u'name': u'Grady'}, {u'count': 40, u'name': u'Anne'}, {u'count': 38, u'name': u'Rihan'}, {u'count': 37, u'name': u'Alexei'}, {u'count': 36, u'name': u'Indie'}, {u'count': 36, u'name': u'Rhuairidh'}, {u'count': 32, u'name': u'Annoushka'}, {u'count': 25, u'name': u'Kenzi'}, {u'count': 24, u'name': u'Shahd'}, {u'count': 22, u'name': u'Irvine'}, {u'count': 21, u'name': u'Carys'}, {u'count': 19, u'name': u'Skye'}, {u'count': 18, u'name': u'Atiya'}, {u'count': 18, u'name': u'Rohan'}, {u'count': 14, u'name': u'Nuala'}, {u'count': 12, u'name': u'Maram'}, {u'count': 12, u'name': u'Carlo'}, {u'count': 9, u'name': u'Japleen'}, {u'count': 7, u'name': u'Breeanna'}, {u'count': 3, u'name': u'Zaaine'}, {u'count': 2, u'name': u'Inika'}]}\n"
     ]
    }
   ],
   "source": [
    "import urllib\n",
    "url =\" http://python-data.dr-chuck.net/comments_42.json\"\n",
    "html = urllib.urlopen(url)\n",
    "data = html.read()\n",
    "import json\n",
    "js = json.loads(data)\n",
    "print js"
   ]
  },
  {
   "cell_type": "code",
   "execution_count": 12,
   "metadata": {
    "collapsed": false
   },
   "outputs": [
    {
     "name": "stdout",
     "output_type": "stream",
     "text": [
      "{\n",
      "    \"note\": \"This file contains the sample data for testing\", \n",
      "    \"comments\": [\n",
      "        {\n",
      "            \"count\": 97, \n",
      "            \"name\": \"Romina\"\n",
      "        }, \n",
      "        {\n",
      "            \"count\": 97, \n",
      "            \"name\": \"Laurie\"\n",
      "        }, \n",
      "        {\n",
      "            \"count\": 90, \n",
      "            \"name\": \"Bayli\"\n",
      "        }, \n",
      "        {\n",
      "            \"count\": 90, \n",
      "            \"name\": \"Siyona\"\n",
      "        }, \n",
      "        {\n",
      "            \"count\": 88, \n",
      "            \"name\": \"Taisha\"\n",
      "        }, \n",
      "        {\n",
      "            \"count\": 87, \n",
      "            \"name\": \"Alanda\"\n",
      "        }, \n",
      "        {\n",
      "            \"count\": 87, \n",
      "            \"name\": \"Ameelia\"\n",
      "        }, \n",
      "        {\n",
      "            \"count\": 80, \n",
      "            \"name\": \"Prasheeta\"\n",
      "        }, \n",
      "        {\n",
      "            \"count\": 79, \n",
      "            \"name\": \"Asif\"\n",
      "        }, \n",
      "        {\n",
      "            \"count\": 79, \n",
      "            \"name\": \"Risa\"\n",
      "        }, \n",
      "        {\n",
      "            \"count\": 78, \n",
      "            \"name\": \"Zi\"\n",
      "        }, \n",
      "        {\n",
      "            \"count\": 76, \n",
      "            \"name\": \"Danyil\"\n",
      "        }, \n",
      "        {\n",
      "            \"count\": 76, \n",
      "            \"name\": \"Ediomi\"\n",
      "        }, \n",
      "        {\n",
      "            \"count\": 72, \n",
      "            \"name\": \"Barry\"\n",
      "        }, \n",
      "        {\n",
      "            \"count\": 72, \n",
      "            \"name\": \"Lance\"\n",
      "        }, \n",
      "        {\n",
      "            \"count\": 66, \n",
      "            \"name\": \"Hattie\"\n",
      "        }, \n",
      "        {\n",
      "            \"count\": 66, \n",
      "            \"name\": \"Mathu\"\n",
      "        }, \n",
      "        {\n",
      "            \"count\": 65, \n",
      "            \"name\": \"Bowie\"\n",
      "        }, \n",
      "        {\n",
      "            \"count\": 65, \n",
      "            \"name\": \"Samara\"\n",
      "        }, \n",
      "        {\n",
      "            \"count\": 64, \n",
      "            \"name\": \"Uchenna\"\n",
      "        }, \n",
      "        {\n",
      "            \"count\": 61, \n",
      "            \"name\": \"Shauni\"\n",
      "        }, \n",
      "        {\n",
      "            \"count\": 61, \n",
      "            \"name\": \"Georgia\"\n",
      "        }, \n",
      "        {\n",
      "            \"count\": 59, \n",
      "            \"name\": \"Rivan\"\n",
      "        }, \n",
      "        {\n",
      "            \"count\": 58, \n",
      "            \"name\": \"Kenan\"\n",
      "        }, \n",
      "        {\n",
      "            \"count\": 57, \n",
      "            \"name\": \"Hassan\"\n",
      "        }, \n",
      "        {\n",
      "            \"count\": 57, \n",
      "            \"name\": \"Isma\"\n",
      "        }, \n",
      "        {\n",
      "            \"count\": 54, \n",
      "            \"name\": \"Samanthalee\"\n",
      "        }, \n",
      "        {\n",
      "            \"count\": 51, \n",
      "            \"name\": \"Alexa\"\n",
      "        }, \n",
      "        {\n",
      "            \"count\": 49, \n",
      "            \"name\": \"Caine\"\n",
      "        }, \n",
      "        {\n",
      "            \"count\": 47, \n",
      "            \"name\": \"Grady\"\n",
      "        }, \n",
      "        {\n",
      "            \"count\": 40, \n",
      "            \"name\": \"Anne\"\n",
      "        }, \n",
      "        {\n",
      "            \"count\": 38, \n",
      "            \"name\": \"Rihan\"\n",
      "        }, \n",
      "        {\n",
      "            \"count\": 37, \n",
      "            \"name\": \"Alexei\"\n",
      "        }, \n",
      "        {\n",
      "            \"count\": 36, \n",
      "            \"name\": \"Indie\"\n",
      "        }, \n",
      "        {\n",
      "            \"count\": 36, \n",
      "            \"name\": \"Rhuairidh\"\n",
      "        }, \n",
      "        {\n",
      "            \"count\": 32, \n",
      "            \"name\": \"Annoushka\"\n",
      "        }, \n",
      "        {\n",
      "            \"count\": 25, \n",
      "            \"name\": \"Kenzi\"\n",
      "        }, \n",
      "        {\n",
      "            \"count\": 24, \n",
      "            \"name\": \"Shahd\"\n",
      "        }, \n",
      "        {\n",
      "            \"count\": 22, \n",
      "            \"name\": \"Irvine\"\n",
      "        }, \n",
      "        {\n",
      "            \"count\": 21, \n",
      "            \"name\": \"Carys\"\n",
      "        }, \n",
      "        {\n",
      "            \"count\": 19, \n",
      "            \"name\": \"Skye\"\n",
      "        }, \n",
      "        {\n",
      "            \"count\": 18, \n",
      "            \"name\": \"Atiya\"\n",
      "        }, \n",
      "        {\n",
      "            \"count\": 18, \n",
      "            \"name\": \"Rohan\"\n",
      "        }, \n",
      "        {\n",
      "            \"count\": 14, \n",
      "            \"name\": \"Nuala\"\n",
      "        }, \n",
      "        {\n",
      "            \"count\": 12, \n",
      "            \"name\": \"Maram\"\n",
      "        }, \n",
      "        {\n",
      "            \"count\": 12, \n",
      "            \"name\": \"Carlo\"\n",
      "        }, \n",
      "        {\n",
      "            \"count\": 9, \n",
      "            \"name\": \"Japleen\"\n",
      "        }, \n",
      "        {\n",
      "            \"count\": 7, \n",
      "            \"name\": \"Breeanna\"\n",
      "        }, \n",
      "        {\n",
      "            \"count\": 3, \n",
      "            \"name\": \"Zaaine\"\n",
      "        }, \n",
      "        {\n",
      "            \"count\": 2, \n",
      "            \"name\": \"Inika\"\n",
      "        }\n",
      "    ]\n",
      "}\n"
     ]
    }
   ],
   "source": [
    "import urllib\n",
    "url =\" http://python-data.dr-chuck.net/comments_42.json\"\n",
    "html = urllib.urlopen(url)\n",
    "data = html.read()\n",
    "import json\n",
    "js = json.loads(data)\n",
    "print json.dumps(js, indent =4)"
   ]
  },
  {
   "cell_type": "code",
   "execution_count": 19,
   "metadata": {
    "collapsed": false
   },
   "outputs": [
    {
     "name": "stdout",
     "output_type": "stream",
     "text": [
      "2553\n"
     ]
    }
   ],
   "source": [
    "import urllib\n",
    "url =\" http://python-data.dr-chuck.net/comments_42.json\"\n",
    "html = urllib.urlopen(url)\n",
    "data = html.read()\n",
    "import json\n",
    "js = json.loads(data)\n",
    "s = 0;\n",
    "for user in js[\"comments\"]:\n",
    "    s += user[\"count\"]\n",
    "print s    "
   ]
  },
  {
   "cell_type": "code",
   "execution_count": 20,
   "metadata": {
    "collapsed": false
   },
   "outputs": [
    {
     "name": "stdout",
     "output_type": "stream",
     "text": [
      "2520\n"
     ]
    }
   ],
   "source": [
    "import urllib\n",
    "url =\" http://python-data.dr-chuck.net/comments_282981.json\"\n",
    "html = urllib.urlopen(url)\n",
    "data = html.read()\n",
    "import json\n",
    "js = json.loads(data)\n",
    "s = 0;\n",
    "for user in js[\"comments\"]:\n",
    "    s += user[\"count\"]\n",
    "print s    "
   ]
  },
  {
   "cell_type": "code",
   "execution_count": null,
   "metadata": {
    "collapsed": true
   },
   "outputs": [],
   "source": []
  }
 ],
 "metadata": {
  "anaconda-cloud": {},
  "kernelspec": {
   "display_name": "Python [default]",
   "language": "python",
   "name": "python2"
  },
  "language_info": {
   "codemirror_mode": {
    "name": "ipython",
    "version": 2
   },
   "file_extension": ".py",
   "mimetype": "text/x-python",
   "name": "python",
   "nbconvert_exporter": "python",
   "pygments_lexer": "ipython2",
   "version": "2.7.13"
  }
 },
 "nbformat": 4,
 "nbformat_minor": 1
}
